{
 "cells": [
  {
   "cell_type": "code",
   "execution_count": 1,
   "metadata": {},
   "outputs": [],
   "source": [
    "import pandas as pd\n",
    "import matplotlib.pyplot as plt\n",
    "\n",
    "from scipy.stats import pearsonr"
   ]
  },
  {
   "cell_type": "code",
   "execution_count": 2,
   "metadata": {},
   "outputs": [
    {
     "name": "stdout",
     "output_type": "stream",
     "text": [
      "LBTESTCD  AMYLB40 AMYLB42 APOE4  GFAP  NF-L  TPP181\n",
      "IID                                                \n",
      "B10106934   0.191   19.05   NaN  0.195  5.14    NaN\n",
      "B10139912   0.029    3.97   NaN  0.059  2.03  0.389\n",
      "B10147592   0.156   13.68   NaN   0.12  2.83  0.962\n",
      "B10197194   0.214   25.51   NaN  0.049  2.21  0.652\n",
      "B10256269   0.215   19.37   NaN  0.052  2.42    NaN\n",
      "...           ...     ...   ...    ...   ...    ...\n",
      "B99934424   0.201   16.32   NaN    0.1  3.13   1.13\n",
      "B99955903   0.232   19.83   NaN   0.12  2.83  0.902\n",
      "B99957366   0.213   17.02   NaN  0.118  2.73   2.21\n",
      "B99968206   0.164   13.03   NaN  0.063  2.08  0.813\n",
      "B99971727   0.198   19.15   NaN  0.066  3.16   1.09\n",
      "\n",
      "[2345 rows x 6 columns]\n"
     ]
    }
   ],
   "source": [
    "# PRS info\n",
    "prs_type = 'gm'\n",
    "\n",
    "# Create PRS data dataframe\n",
    "file_path = 'data/{}_prs.profile'.format(prs_type)\n",
    "df = pd.read_csv(file_path, delim_whitespace=True)\n",
    "df = df[['IID', 'SCORE']]\n",
    "\n",
    "# Convert SCORE to z-score\n",
    "df['ZSCORE'] = (df['SCORE'] - df['SCORE'].mean()) / df['SCORE'].std()\n",
    "\n",
    "# Obrain pTAU data make BID coulmn index and only extract ORRES column\n",
    "df_ptau = pd.read_csv('data/plasma/biomarker_pTau217.csv', usecols=['BID', 'VISCODE', 'ORRES'])\n",
    "df_ptau.rename(columns={'ORRES': 'pTau217', 'BID': 'IID'}, inplace=True)\n",
    "# Keep only those with VISCODE 6\n",
    "df_ptau = df_ptau[df_ptau['VISCODE'] == 6]\n",
    "df_ptau.drop(columns=['VISCODE'], inplace=True)\n",
    "# Convert ptau to float and remove nans\n",
    "df_ptau['pTau217'] = pd.to_numeric(df_ptau['pTau217'], errors='coerce')\n",
    "df_ptau.dropna(inplace=True)\n",
    "\n",
    "# Obtain AB Test data \n",
    "df_ab = pd.read_csv('data/plasma/biomarker_AB_Test.csv', usecols=['BID', 'LBTESTCD', 'LBORRES'])\n",
    "df_ab.rename(columns={'BID': 'IID'}, inplace=True)\n",
    "ab_test = df_ab['LBTESTCD'].unique()\n",
    "\n",
    "# Pivot to wide dataframe and remove duplicates\n",
    "df_ab = df_ab.drop_duplicates(subset=['IID', 'LBTESTCD'], keep='first')\n",
    "df_ab = df_ab.pivot(index='IID', columns='LBTESTCD', values='LBORRES')\n",
    "# Convert to floats\n",
    "df_ab = df_ab.apply(pd.to_numeric, errors='coerce')\n",
    "\n",
    "# Obtain Plasma Roche measures\n",
    "df_roche = pd.read_csv('data/plasma/biomarker_Plasma_Roche_Results.csv', usecols=['BID', 'LBTESTCD', 'LABRESN'])\n",
    "df_roche.rename(columns={'BID': 'IID'}, inplace=True)\n",
    "plasma_test = df_roche['LBTESTCD'].unique()\n",
    "\n",
    "# Pivot to wide dataframe and remove duplicates\n",
    "df_roche = df_roche.drop_duplicates(subset=['IID', 'LBTESTCD'], keep='first')\n",
    "df_roche = df_roche.pivot(index='IID', columns='LBTESTCD', values='LABRESN')\n",
    "# Convert to floats\n",
    "print(df_roche)\n",
    "df_roche = df_roche.apply(pd.to_numeric, errors='coerce')\n",
    "\n",
    "# Obtain Cognition data\n",
    "df_cog = pd.read_csv('data/cognition/PACC.csv', usecols=['BID', 'VISCODE', 'FCTOTAL96'])\n",
    "df_cog.rename(columns={'BID': 'IID'}, inplace=True)\n",
    "# Keep only those with VISCODE 001\n",
    "df_cog = df_cog[df_cog['VISCODE'] == 1]\n",
    "df_cog.drop(columns=['VISCODE'], inplace=True)\n",
    "\n",
    "\n",
    "# Merge all dataframes\n",
    "df = pd.merge(df, df_ptau, on='IID', how='outer')\n",
    "df = pd.merge(df, df_cog, on='IID', how='outer')\n",
    "df = pd.merge(df, df_ab, on='IID', how='outer')\n",
    "df = pd.merge(df, df_roche, on='IID', how='outer')"
   ]
  },
  {
   "cell_type": "code",
   "execution_count": 3,
   "metadata": {},
   "outputs": [
    {
     "data": {
      "image/png": "[encoded data removed]",
      "text/plain": [
       "<Figure size 432x288 with 1 Axes>"
      ]
     },
     "metadata": {
      "needs_background": "light"
     },
     "output_type": "display_data"
    }
   ],
   "source": [
    "# Show distributions of SCORES\n",
    "plt.hist(df['ZSCORE'], bins=50)\n",
    "plt.title('Distribution of {} PRS Z-SCORES'.format(prs_type))\n",
    "plt.xlabel('SCORES')\n",
    "plt.ylabel('Frequency')\n",
    "plt.show()"
   ]
  },
  {
   "cell_type": "code",
   "execution_count": 6,
   "metadata": {},
   "outputs": [
    {
     "name": "stdout",
     "output_type": "stream",
     "text": [
      "[Nº Subjects 736] Correlation between gm PRS and pTau217: -0.04087102770925425 (0.2681291127477756)\n",
      "[Nº Subjects 3010] Correlation between gm PRS and FCTOTAL96: -0.02869421500452857 (0.11550264136710177)\n",
      "[Nº Subjects 2482] Correlation between gm PRS and TP42/TP40: -0.008506945098143679 (0.6718521503293851)\n",
      "[Nº Subjects 2398] Correlation between gm PRS and FP42/TP42: -0.01947038684730061 (0.3405667893791328)\n",
      "[Nº Subjects 2572] Correlation between gm PRS and BP40: -0.019470975269532204 (0.3236024878922742)\n",
      "[Nº Subjects 2600] Correlation between gm PRS and FP40: -0.01220819150618039 (0.533795961815828)\n",
      "[Nº Subjects 2592] Correlation between gm PRS and TP40: -0.021949065823051915 (0.2639688690304699)\n",
      "[Nº Subjects 2380] Correlation between gm PRS and BP42: -0.04142534918735684 (0.043305498437351764)\n",
      "[Nº Subjects 2429] Correlation between gm PRS and FP42/FP40: -0.016977147579452397 (0.402960075574075)\n",
      "[Nº Subjects 2583] Correlation between gm PRS and FP40/TP40: -0.008673782507461899 (0.6594848693326835)\n",
      "[Nº Subjects 2492] Correlation between gm PRS and TP42: -0.04020125928283277 (0.04478709502067775)\n",
      "[Nº Subjects 2434] Correlation between gm PRS and FP42: -0.02218808711708215 (0.27385207192305017)\n",
      "[Nº Subjects 1641] Correlation between gm PRS and GFAP : 0.018045837244408947 (0.46506877201646774)\n",
      "[Nº Subjects 1630] Correlation between gm PRS and AMYLB40: -0.019248550061248086 (0.43739334615217634)\n",
      "[Nº Subjects 1645] Correlation between gm PRS and AMYLB42: -0.020241137357384104 (0.41198116924809114)\n",
      "[Nº Subjects 588] Correlation between gm PRS and APOE4: -0.05621552610281977 (0.17340941919735245)\n",
      "[Nº Subjects 1163] Correlation between gm PRS and TPP181: 0.036701876162933966 (0.2110396909197518)\n",
      "[Nº Subjects 1643] Correlation between gm PRS and NF-L : 0.014306878875767131 (0.5622502137448834)\n"
     ]
    }
   ],
   "source": [
    "# Calculate Pearson correlation between PRS and different values\n",
    "vals = ['pTau217', 'FCTOTAL96'] + ab_test.tolist() + plasma_test.tolist()\n",
    "for val in vals:\n",
    "    df_p = df[['ZSCORE', val]].copy().dropna()\n",
    "    corr, p_val = pearsonr(df_p['ZSCORE'], df_p[val])\n",
    "    print('[Nº Subjects {}] Correlation between {} PRS and {}: {} ({})'.format(df_p.shape[0], prs_type, val, corr, p_val))\n"
   ]
  },
  {
   "cell_type": "code",
   "execution_count": null,
   "metadata": {},
   "outputs": [],
   "source": []
  }
 ],
 "metadata": {
  "kernelspec": {
   "display_name": "adni",
   "language": "python",
   "name": "python3"
  },
  "language_info": {
   "codemirror_mode": {
    "name": "ipython",
    "version": 3
   },
   "file_extension": ".py",
   "mimetype": "text/x-python",
   "name": "python",
   "nbconvert_exporter": "python",
   "pygments_lexer": "ipython3",
   "version": "3.9.7"
  }
 },
 "nbformat": 4,
 "nbformat_minor": 2
}
